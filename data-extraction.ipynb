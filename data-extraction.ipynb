{
 "cells": [
  {
   "cell_type": "code",
   "execution_count": 1,
   "metadata": {},
   "outputs": [
    {
     "name": "stdout",
     "output_type": "stream",
     "text": [
      "pip 24.0 from /Users/vihar_gunamgari/.pyenv/versions/3.11.11/lib/python3.11/site-packages/pip (python 3.11)\n",
      "Note: you may need to restart the kernel to use updated packages.\n"
     ]
    }
   ],
   "source": [
    "pip --version"
   ]
  },
  {
   "cell_type": "code",
   "execution_count": 2,
   "metadata": {},
   "outputs": [
    {
     "name": "stdout",
     "output_type": "stream",
     "text": [
      "Requirement already satisfied: torch in /Users/vihar_gunamgari/.pyenv/versions/3.11.11/lib/python3.11/site-packages (2.6.0)\n",
      "Requirement already satisfied: transformers in /Users/vihar_gunamgari/.pyenv/versions/3.11.11/lib/python3.11/site-packages (4.49.0)\n",
      "Requirement already satisfied: pyserini in /Users/vihar_gunamgari/.pyenv/versions/3.11.11/lib/python3.11/site-packages (0.44.0)\n",
      "Requirement already satisfied: numpy in /Users/vihar_gunamgari/.pyenv/versions/3.11.11/lib/python3.11/site-packages (1.26.4)\n",
      "Requirement already satisfied: pandas in /Users/vihar_gunamgari/.pyenv/versions/3.11.11/lib/python3.11/site-packages (2.2.3)\n",
      "Requirement already satisfied: matplotlib in /Users/vihar_gunamgari/.pyenv/versions/3.11.11/lib/python3.11/site-packages (3.10.1)\n",
      "Requirement already satisfied: filelock in /Users/vihar_gunamgari/.pyenv/versions/3.11.11/lib/python3.11/site-packages (from torch) (3.17.0)\n",
      "Requirement already satisfied: typing-extensions>=4.10.0 in /Users/vihar_gunamgari/.pyenv/versions/3.11.11/lib/python3.11/site-packages (from torch) (4.12.2)\n",
      "Requirement already satisfied: networkx in /Users/vihar_gunamgari/.pyenv/versions/3.11.11/lib/python3.11/site-packages (from torch) (3.4.2)\n",
      "Requirement already satisfied: jinja2 in /Users/vihar_gunamgari/.pyenv/versions/3.11.11/lib/python3.11/site-packages (from torch) (3.1.5)\n",
      "Requirement already satisfied: fsspec in /Users/vihar_gunamgari/.pyenv/versions/3.11.11/lib/python3.11/site-packages (from torch) (2024.12.0)\n",
      "Requirement already satisfied: sympy==1.13.1 in /Users/vihar_gunamgari/.pyenv/versions/3.11.11/lib/python3.11/site-packages (from torch) (1.13.1)\n",
      "Requirement already satisfied: mpmath<1.4,>=1.1.0 in /Users/vihar_gunamgari/.pyenv/versions/3.11.11/lib/python3.11/site-packages (from sympy==1.13.1->torch) (1.3.0)\n",
      "Requirement already satisfied: huggingface-hub<1.0,>=0.26.0 in /Users/vihar_gunamgari/.pyenv/versions/3.11.11/lib/python3.11/site-packages (from transformers) (0.29.1)\n",
      "Requirement already satisfied: packaging>=20.0 in /Users/vihar_gunamgari/.pyenv/versions/3.11.11/lib/python3.11/site-packages (from transformers) (24.2)\n",
      "Requirement already satisfied: pyyaml>=5.1 in /Users/vihar_gunamgari/.pyenv/versions/3.11.11/lib/python3.11/site-packages (from transformers) (6.0.2)\n",
      "Requirement already satisfied: regex!=2019.12.17 in /Users/vihar_gunamgari/.pyenv/versions/3.11.11/lib/python3.11/site-packages (from transformers) (2024.11.6)\n",
      "Requirement already satisfied: requests in /Users/vihar_gunamgari/.pyenv/versions/3.11.11/lib/python3.11/site-packages (from transformers) (2.32.3)\n",
      "Requirement already satisfied: tokenizers<0.22,>=0.21 in /Users/vihar_gunamgari/.pyenv/versions/3.11.11/lib/python3.11/site-packages (from transformers) (0.21.0)\n",
      "Requirement already satisfied: safetensors>=0.4.1 in /Users/vihar_gunamgari/.pyenv/versions/3.11.11/lib/python3.11/site-packages (from transformers) (0.5.3)\n",
      "Requirement already satisfied: tqdm>=4.27 in /Users/vihar_gunamgari/.pyenv/versions/3.11.11/lib/python3.11/site-packages (from transformers) (4.67.1)\n",
      "Requirement already satisfied: Cython>=0.29.21 in /Users/vihar_gunamgari/.pyenv/versions/3.11.11/lib/python3.11/site-packages (from pyserini) (3.0.12)\n",
      "Requirement already satisfied: pyjnius>=1.6.0 in /Users/vihar_gunamgari/.pyenv/versions/3.11.11/lib/python3.11/site-packages (from pyserini) (1.6.1)\n",
      "Requirement already satisfied: scikit-learn>=0.22.1 in /Users/vihar_gunamgari/.pyenv/versions/3.11.11/lib/python3.11/site-packages (from pyserini) (1.6.1)\n",
      "Requirement already satisfied: scipy>=1.4.1 in /Users/vihar_gunamgari/.pyenv/versions/3.11.11/lib/python3.11/site-packages (from pyserini) (1.13.1)\n",
      "Requirement already satisfied: onnxruntime>=1.8.1 in /Users/vihar_gunamgari/.pyenv/versions/3.11.11/lib/python3.11/site-packages (from pyserini) (1.20.1)\n",
      "Requirement already satisfied: openai>=1.0.0 in /Users/vihar_gunamgari/.pyenv/versions/3.11.11/lib/python3.11/site-packages (from pyserini) (1.65.2)\n",
      "Requirement already satisfied: sentencepiece>=0.2 in /Users/vihar_gunamgari/.pyenv/versions/3.11.11/lib/python3.11/site-packages (from pyserini) (0.2.0)\n",
      "Requirement already satisfied: tiktoken>=0.4.0 in /Users/vihar_gunamgari/.pyenv/versions/3.11.11/lib/python3.11/site-packages (from pyserini) (0.9.0)\n",
      "Requirement already satisfied: flask>3.0 in /Users/vihar_gunamgari/.pyenv/versions/3.11.11/lib/python3.11/site-packages (from pyserini) (3.1.0)\n",
      "Requirement already satisfied: pillow>=10.2.0 in /Users/vihar_gunamgari/.pyenv/versions/3.11.11/lib/python3.11/site-packages (from pyserini) (11.1.0)\n",
      "Requirement already satisfied: python-dateutil>=2.8.2 in /Users/vihar_gunamgari/.pyenv/versions/3.11.11/lib/python3.11/site-packages (from pandas) (2.9.0.post0)\n",
      "Requirement already satisfied: pytz>=2020.1 in /Users/vihar_gunamgari/.pyenv/versions/3.11.11/lib/python3.11/site-packages (from pandas) (2025.1)\n",
      "Requirement already satisfied: tzdata>=2022.7 in /Users/vihar_gunamgari/.pyenv/versions/3.11.11/lib/python3.11/site-packages (from pandas) (2025.1)\n",
      "Requirement already satisfied: contourpy>=1.0.1 in /Users/vihar_gunamgari/.pyenv/versions/3.11.11/lib/python3.11/site-packages (from matplotlib) (1.3.1)\n",
      "Requirement already satisfied: cycler>=0.10 in /Users/vihar_gunamgari/.pyenv/versions/3.11.11/lib/python3.11/site-packages (from matplotlib) (0.12.1)\n",
      "Requirement already satisfied: fonttools>=4.22.0 in /Users/vihar_gunamgari/.pyenv/versions/3.11.11/lib/python3.11/site-packages (from matplotlib) (4.57.0)\n",
      "Requirement already satisfied: kiwisolver>=1.3.1 in /Users/vihar_gunamgari/.pyenv/versions/3.11.11/lib/python3.11/site-packages (from matplotlib) (1.4.8)\n",
      "Requirement already satisfied: pyparsing>=2.3.1 in /Users/vihar_gunamgari/.pyenv/versions/3.11.11/lib/python3.11/site-packages (from matplotlib) (3.2.3)\n",
      "Requirement already satisfied: Werkzeug>=3.1 in /Users/vihar_gunamgari/.pyenv/versions/3.11.11/lib/python3.11/site-packages (from flask>3.0->pyserini) (3.1.3)\n",
      "Requirement already satisfied: itsdangerous>=2.2 in /Users/vihar_gunamgari/.pyenv/versions/3.11.11/lib/python3.11/site-packages (from flask>3.0->pyserini) (2.2.0)\n",
      "Requirement already satisfied: click>=8.1.3 in /Users/vihar_gunamgari/.pyenv/versions/3.11.11/lib/python3.11/site-packages (from flask>3.0->pyserini) (8.1.8)\n",
      "Requirement already satisfied: blinker>=1.9 in /Users/vihar_gunamgari/.pyenv/versions/3.11.11/lib/python3.11/site-packages (from flask>3.0->pyserini) (1.9.0)\n",
      "Requirement already satisfied: MarkupSafe>=2.0 in /Users/vihar_gunamgari/.pyenv/versions/3.11.11/lib/python3.11/site-packages (from jinja2->torch) (3.0.2)\n",
      "Requirement already satisfied: coloredlogs in /Users/vihar_gunamgari/.pyenv/versions/3.11.11/lib/python3.11/site-packages (from onnxruntime>=1.8.1->pyserini) (15.0.1)\n",
      "Requirement already satisfied: flatbuffers in /Users/vihar_gunamgari/.pyenv/versions/3.11.11/lib/python3.11/site-packages (from onnxruntime>=1.8.1->pyserini) (25.2.10)\n",
      "Requirement already satisfied: protobuf in /Users/vihar_gunamgari/.pyenv/versions/3.11.11/lib/python3.11/site-packages (from onnxruntime>=1.8.1->pyserini) (5.29.3)\n",
      "Requirement already satisfied: anyio<5,>=3.5.0 in /Users/vihar_gunamgari/.pyenv/versions/3.11.11/lib/python3.11/site-packages (from openai>=1.0.0->pyserini) (4.8.0)\n",
      "Requirement already satisfied: distro<2,>=1.7.0 in /Users/vihar_gunamgari/.pyenv/versions/3.11.11/lib/python3.11/site-packages (from openai>=1.0.0->pyserini) (1.9.0)\n",
      "Requirement already satisfied: httpx<1,>=0.23.0 in /Users/vihar_gunamgari/.pyenv/versions/3.11.11/lib/python3.11/site-packages (from openai>=1.0.0->pyserini) (0.28.1)\n",
      "Requirement already satisfied: jiter<1,>=0.4.0 in /Users/vihar_gunamgari/.pyenv/versions/3.11.11/lib/python3.11/site-packages (from openai>=1.0.0->pyserini) (0.8.2)\n",
      "Requirement already satisfied: pydantic<3,>=1.9.0 in /Users/vihar_gunamgari/.pyenv/versions/3.11.11/lib/python3.11/site-packages (from openai>=1.0.0->pyserini) (2.10.6)\n",
      "Requirement already satisfied: sniffio in /Users/vihar_gunamgari/.pyenv/versions/3.11.11/lib/python3.11/site-packages (from openai>=1.0.0->pyserini) (1.3.1)\n",
      "Requirement already satisfied: six>=1.5 in /Users/vihar_gunamgari/.pyenv/versions/3.11.11/lib/python3.11/site-packages (from python-dateutil>=2.8.2->pandas) (1.17.0)\n",
      "Requirement already satisfied: joblib>=1.2.0 in /Users/vihar_gunamgari/.pyenv/versions/3.11.11/lib/python3.11/site-packages (from scikit-learn>=0.22.1->pyserini) (1.4.2)\n",
      "Requirement already satisfied: threadpoolctl>=3.1.0 in /Users/vihar_gunamgari/.pyenv/versions/3.11.11/lib/python3.11/site-packages (from scikit-learn>=0.22.1->pyserini) (3.5.0)\n",
      "Requirement already satisfied: charset-normalizer<4,>=2 in /Users/vihar_gunamgari/.pyenv/versions/3.11.11/lib/python3.11/site-packages (from requests->transformers) (3.4.1)\n",
      "Requirement already satisfied: idna<4,>=2.5 in /Users/vihar_gunamgari/.pyenv/versions/3.11.11/lib/python3.11/site-packages (from requests->transformers) (3.10)\n",
      "Requirement already satisfied: urllib3<3,>=1.21.1 in /Users/vihar_gunamgari/.pyenv/versions/3.11.11/lib/python3.11/site-packages (from requests->transformers) (2.3.0)\n",
      "Requirement already satisfied: certifi>=2017.4.17 in /Users/vihar_gunamgari/.pyenv/versions/3.11.11/lib/python3.11/site-packages (from requests->transformers) (2025.1.31)\n",
      "Requirement already satisfied: httpcore==1.* in /Users/vihar_gunamgari/.pyenv/versions/3.11.11/lib/python3.11/site-packages (from httpx<1,>=0.23.0->openai>=1.0.0->pyserini) (1.0.7)\n",
      "Requirement already satisfied: h11<0.15,>=0.13 in /Users/vihar_gunamgari/.pyenv/versions/3.11.11/lib/python3.11/site-packages (from httpcore==1.*->httpx<1,>=0.23.0->openai>=1.0.0->pyserini) (0.14.0)\n",
      "Requirement already satisfied: annotated-types>=0.6.0 in /Users/vihar_gunamgari/.pyenv/versions/3.11.11/lib/python3.11/site-packages (from pydantic<3,>=1.9.0->openai>=1.0.0->pyserini) (0.7.0)\n",
      "Requirement already satisfied: pydantic-core==2.27.2 in /Users/vihar_gunamgari/.pyenv/versions/3.11.11/lib/python3.11/site-packages (from pydantic<3,>=1.9.0->openai>=1.0.0->pyserini) (2.27.2)\n",
      "Requirement already satisfied: humanfriendly>=9.1 in /Users/vihar_gunamgari/.pyenv/versions/3.11.11/lib/python3.11/site-packages (from coloredlogs->onnxruntime>=1.8.1->pyserini) (10.0)\n",
      "\n",
      "\u001b[1m[\u001b[0m\u001b[34;49mnotice\u001b[0m\u001b[1;39;49m]\u001b[0m\u001b[39;49m A new release of pip is available: \u001b[0m\u001b[31;49m24.0\u001b[0m\u001b[39;49m -> \u001b[0m\u001b[32;49m25.0.1\u001b[0m\n",
      "\u001b[1m[\u001b[0m\u001b[34;49mnotice\u001b[0m\u001b[1;39;49m]\u001b[0m\u001b[39;49m To update, run: \u001b[0m\u001b[32;49mpip install --upgrade pip\u001b[0m\n"
     ]
    }
   ],
   "source": [
    "!pip install torch transformers pyserini numpy pandas matplotlib"
   ]
  },
  {
   "cell_type": "code",
   "execution_count": 3,
   "metadata": {},
   "outputs": [
    {
     "name": "stdout",
     "output_type": "stream",
     "text": [
      "Requirement already satisfied: datasets in /Users/vihar_gunamgari/.pyenv/versions/3.11.11/lib/python3.11/site-packages (3.3.2)\n",
      "Requirement already satisfied: filelock in /Users/vihar_gunamgari/.pyenv/versions/3.11.11/lib/python3.11/site-packages (from datasets) (3.17.0)\n",
      "Requirement already satisfied: numpy>=1.17 in /Users/vihar_gunamgari/.pyenv/versions/3.11.11/lib/python3.11/site-packages (from datasets) (1.26.4)\n",
      "Requirement already satisfied: pyarrow>=15.0.0 in /Users/vihar_gunamgari/.pyenv/versions/3.11.11/lib/python3.11/site-packages (from datasets) (19.0.1)\n",
      "Requirement already satisfied: dill<0.3.9,>=0.3.0 in /Users/vihar_gunamgari/.pyenv/versions/3.11.11/lib/python3.11/site-packages (from datasets) (0.3.8)\n",
      "Requirement already satisfied: pandas in /Users/vihar_gunamgari/.pyenv/versions/3.11.11/lib/python3.11/site-packages (from datasets) (2.2.3)\n",
      "Requirement already satisfied: requests>=2.32.2 in /Users/vihar_gunamgari/.pyenv/versions/3.11.11/lib/python3.11/site-packages (from datasets) (2.32.3)\n",
      "Requirement already satisfied: tqdm>=4.66.3 in /Users/vihar_gunamgari/.pyenv/versions/3.11.11/lib/python3.11/site-packages (from datasets) (4.67.1)\n",
      "Requirement already satisfied: xxhash in /Users/vihar_gunamgari/.pyenv/versions/3.11.11/lib/python3.11/site-packages (from datasets) (3.5.0)\n",
      "Requirement already satisfied: multiprocess<0.70.17 in /Users/vihar_gunamgari/.pyenv/versions/3.11.11/lib/python3.11/site-packages (from datasets) (0.70.16)\n",
      "Requirement already satisfied: fsspec<=2024.12.0,>=2023.1.0 in /Users/vihar_gunamgari/.pyenv/versions/3.11.11/lib/python3.11/site-packages (from fsspec[http]<=2024.12.0,>=2023.1.0->datasets) (2024.12.0)\n",
      "Requirement already satisfied: aiohttp in /Users/vihar_gunamgari/.pyenv/versions/3.11.11/lib/python3.11/site-packages (from datasets) (3.11.13)\n",
      "Requirement already satisfied: huggingface-hub>=0.24.0 in /Users/vihar_gunamgari/.pyenv/versions/3.11.11/lib/python3.11/site-packages (from datasets) (0.29.1)\n",
      "Requirement already satisfied: packaging in /Users/vihar_gunamgari/.pyenv/versions/3.11.11/lib/python3.11/site-packages (from datasets) (24.2)\n",
      "Requirement already satisfied: pyyaml>=5.1 in /Users/vihar_gunamgari/.pyenv/versions/3.11.11/lib/python3.11/site-packages (from datasets) (6.0.2)\n",
      "Requirement already satisfied: aiohappyeyeballs>=2.3.0 in /Users/vihar_gunamgari/.pyenv/versions/3.11.11/lib/python3.11/site-packages (from aiohttp->datasets) (2.6.1)\n",
      "Requirement already satisfied: aiosignal>=1.1.2 in /Users/vihar_gunamgari/.pyenv/versions/3.11.11/lib/python3.11/site-packages (from aiohttp->datasets) (1.3.2)\n",
      "Requirement already satisfied: attrs>=17.3.0 in /Users/vihar_gunamgari/.pyenv/versions/3.11.11/lib/python3.11/site-packages (from aiohttp->datasets) (25.2.0)\n",
      "Requirement already satisfied: frozenlist>=1.1.1 in /Users/vihar_gunamgari/.pyenv/versions/3.11.11/lib/python3.11/site-packages (from aiohttp->datasets) (1.5.0)\n",
      "Requirement already satisfied: multidict<7.0,>=4.5 in /Users/vihar_gunamgari/.pyenv/versions/3.11.11/lib/python3.11/site-packages (from aiohttp->datasets) (6.1.0)\n",
      "Requirement already satisfied: propcache>=0.2.0 in /Users/vihar_gunamgari/.pyenv/versions/3.11.11/lib/python3.11/site-packages (from aiohttp->datasets) (0.3.0)\n",
      "Requirement already satisfied: yarl<2.0,>=1.17.0 in /Users/vihar_gunamgari/.pyenv/versions/3.11.11/lib/python3.11/site-packages (from aiohttp->datasets) (1.18.3)\n",
      "Requirement already satisfied: typing-extensions>=3.7.4.3 in /Users/vihar_gunamgari/.pyenv/versions/3.11.11/lib/python3.11/site-packages (from huggingface-hub>=0.24.0->datasets) (4.12.2)\n",
      "Requirement already satisfied: charset-normalizer<4,>=2 in /Users/vihar_gunamgari/.pyenv/versions/3.11.11/lib/python3.11/site-packages (from requests>=2.32.2->datasets) (3.4.1)\n",
      "Requirement already satisfied: idna<4,>=2.5 in /Users/vihar_gunamgari/.pyenv/versions/3.11.11/lib/python3.11/site-packages (from requests>=2.32.2->datasets) (3.10)\n",
      "Requirement already satisfied: urllib3<3,>=1.21.1 in /Users/vihar_gunamgari/.pyenv/versions/3.11.11/lib/python3.11/site-packages (from requests>=2.32.2->datasets) (2.3.0)\n",
      "Requirement already satisfied: certifi>=2017.4.17 in /Users/vihar_gunamgari/.pyenv/versions/3.11.11/lib/python3.11/site-packages (from requests>=2.32.2->datasets) (2025.1.31)\n",
      "Requirement already satisfied: python-dateutil>=2.8.2 in /Users/vihar_gunamgari/.pyenv/versions/3.11.11/lib/python3.11/site-packages (from pandas->datasets) (2.9.0.post0)\n",
      "Requirement already satisfied: pytz>=2020.1 in /Users/vihar_gunamgari/.pyenv/versions/3.11.11/lib/python3.11/site-packages (from pandas->datasets) (2025.1)\n",
      "Requirement already satisfied: tzdata>=2022.7 in /Users/vihar_gunamgari/.pyenv/versions/3.11.11/lib/python3.11/site-packages (from pandas->datasets) (2025.1)\n",
      "Requirement already satisfied: six>=1.5 in /Users/vihar_gunamgari/.pyenv/versions/3.11.11/lib/python3.11/site-packages (from python-dateutil>=2.8.2->pandas->datasets) (1.17.0)\n",
      "\n",
      "\u001b[1m[\u001b[0m\u001b[34;49mnotice\u001b[0m\u001b[1;39;49m]\u001b[0m\u001b[39;49m A new release of pip is available: \u001b[0m\u001b[31;49m24.0\u001b[0m\u001b[39;49m -> \u001b[0m\u001b[32;49m25.0.1\u001b[0m\n",
      "\u001b[1m[\u001b[0m\u001b[34;49mnotice\u001b[0m\u001b[1;39;49m]\u001b[0m\u001b[39;49m To update, run: \u001b[0m\u001b[32;49mpip install --upgrade pip\u001b[0m\n"
     ]
    },
    {
     "name": "stderr",
     "output_type": "stream",
     "text": [
      "/Users/vihar_gunamgari/.pyenv/versions/3.11.11/lib/python3.11/site-packages/tqdm/auto.py:21: TqdmWarning: IProgress not found. Please update jupyter and ipywidgets. See https://ipywidgets.readthedocs.io/en/stable/user_install.html\n",
      "  from .autonotebook import tqdm as notebook_tqdm\n"
     ]
    }
   ],
   "source": [
    "!pip install datasets\n",
    "from datasets import load_dataset\n",
    "\n",
    "dataset_python = load_dataset(\"code_search_net\", \"python\", trust_remote_code=True)\n",
    "dataset_java = load_dataset(\"code_search_net\", \"java\", trust_remote_code=True)"
   ]
  },
  {
   "cell_type": "code",
   "execution_count": 4,
   "metadata": {},
   "outputs": [
    {
     "name": "stdout",
     "output_type": "stream",
     "text": [
      "   id language                function_name  \\\n",
      "0   0   python  AbstractElement.addidsuffix   \n",
      "1   1   python   AbstractElement.setparents   \n",
      "2   2   python       AbstractElement.setdoc   \n",
      "3   3   python      AbstractElement.hastext   \n",
      "4   4   python      AbstractElement.hasphon   \n",
      "\n",
      "                                                code  \\\n",
      "0  def addidsuffix(self, idsuffix, recursive = Tr...   \n",
      "1  def setparents(self):\\n        \"\"\"Correct all ...   \n",
      "2  def setdoc(self,newdoc):\\n        \"\"\"Set a dif...   \n",
      "3  def hastext(self,cls='current',strict=True, co...   \n",
      "4  def hasphon(self,cls='current',strict=True,cor...   \n",
      "\n",
      "                                           docstring                file_path  \n",
      "0  Appends a suffix to this element's ID, and opt...  pynlpl/formats/folia.py  \n",
      "1  Correct all parent relations for elements with...  pynlpl/formats/folia.py  \n",
      "2  Set a different document. Usually no need to c...  pynlpl/formats/folia.py  \n",
      "3  Does this element have text (of the specified ...  pynlpl/formats/folia.py  \n",
      "4  Does this element have phonetic content (of th...  pynlpl/formats/folia.py  \n"
     ]
    }
   ],
   "source": [
    "import pandas as pd\n",
    "\n",
    "# Extract relevant fields\n",
    "filtered_data_python = [\n",
    "    {\n",
    "        \"id\": i,\n",
    "        \"language\": entry[\"language\"],\n",
    "        \"function_name\": entry[\"func_name\"],\n",
    "        \"code\": entry[\"func_code_string\"],\n",
    "        \"docstring\": entry[\"func_documentation_string\"],\n",
    "        \"file_path\": entry[\"func_path_in_repository\"],\n",
    "    }\n",
    "    for i, entry in enumerate(dataset_python[\"train\"])\n",
    "]\n",
    "\n",
    "# Convert to DataFrame\n",
    "df_python = pd.DataFrame(filtered_data_python)\n",
    "\n",
    "print(df_python.head())"
   ]
  },
  {
   "cell_type": "code",
   "execution_count": 5,
   "metadata": {},
   "outputs": [
    {
     "name": "stdout",
     "output_type": "stream",
     "text": [
      "   id language                           function_name  \\\n",
      "0   0     java       ProtectionContainersInner.inquire   \n",
      "1   1     java  ProtectionContainersInner.inquireAsync   \n",
      "2   2     java  ProtectionContainersInner.inquireAsync   \n",
      "3   3     java       ProtectionContainersInner.refresh   \n",
      "4   4     java  ProtectionContainersInner.refreshAsync   \n",
      "\n",
      "                                                code  \\\n",
      "0  public void inquire(String vaultName, String r...   \n",
      "1  public ServiceFuture<Void> inquireAsync(String...   \n",
      "2  public Observable<Void> inquireAsync(String va...   \n",
      "3  public void refresh(String vaultName, String r...   \n",
      "4  public Observable<Void> refreshAsync(String va...   \n",
      "\n",
      "                                           docstring  \\\n",
      "0  Inquires all the protectable item in the given...   \n",
      "1  Inquires all the protectable item in the given...   \n",
      "2  Inquires all the protectable item in the given...   \n",
      "3  Discovers all the containers in the subscripti...   \n",
      "4  Discovers all the containers in the subscripti...   \n",
      "\n",
      "                                           file_path  \n",
      "0  recoveryservices.backup/resource-manager/v2016...  \n",
      "1  recoveryservices.backup/resource-manager/v2016...  \n",
      "2  recoveryservices.backup/resource-manager/v2016...  \n",
      "3  recoveryservices.backup/resource-manager/v2016...  \n",
      "4  recoveryservices.backup/resource-manager/v2016...  \n"
     ]
    }
   ],
   "source": [
    "import pandas as pd\n",
    "\n",
    "# Extract relevant fields\n",
    "filtered_data_java = [\n",
    "    {\n",
    "        \"id\": i,\n",
    "        \"language\": entry[\"language\"],\n",
    "        \"function_name\": entry[\"func_name\"],\n",
    "        \"code\": entry[\"func_code_string\"],\n",
    "        \"docstring\": entry[\"func_documentation_string\"],\n",
    "        \"file_path\": entry[\"func_path_in_repository\"]\n",
    "    }\n",
    "    for i, entry in enumerate(dataset_java[\"train\"])\n",
    "]\n",
    "\n",
    "# Convert to DataFrame\n",
    "df_java = pd.DataFrame(filtered_data_java)\n",
    "\n",
    "print(df_java.head())"
   ]
  },
  {
   "cell_type": "code",
   "execution_count": 6,
   "metadata": {},
   "outputs": [],
   "source": [
    "# Clean and Normalize the code\n",
    "# - remove excess spaces\n",
    "# - remove comments (though Python docstrings can be useful)\n",
    "# - convert everything to lowercase for consistency (except code syntax)\n",
    "\n",
    "import re\n",
    "\n",
    "def clean_python_code(code):\n",
    "    if not isinstance(code, str):\n",
    "        return \"\"\n",
    "    code = re.sub(r'#.*', '', code) # remove inline comments\n",
    "    code = re.sub(r'\\s+', '', code).strip() # normalize spaces\n",
    "    return code\n",
    "\n",
    "def clean_java_code(code):\n",
    "    if not isinstance(code, str):\n",
    "        return \"\"\n",
    "    code = re.sub(r'//.*', '', code) # remove single-line comments\n",
    "    code = re.sub(r'/\\*.*?\\*/', '', code, flags=re.DOTALL) # remove multi-line comments\n",
    "    code = re.sub(r'\\s+', ' ', code).strip() # normalize spaces\n",
    "    return code\n",
    "\n",
    "df_python[\"clean_code\"] = df_python[\"code\"].apply(clean_python_code)\n",
    "df_java[\"clean_code\"] = df_java[\"code\"].apply(clean_java_code)"
   ]
  },
  {
   "cell_type": "code",
   "execution_count": 7,
   "metadata": {},
   "outputs": [
    {
     "name": "stdout",
     "output_type": "stream",
     "text": [
      "binary search in python\n"
     ]
    }
   ],
   "source": [
    "# Normalize queries\n",
    "\n",
    "def preprocess_query(query):\n",
    "    query = query.lower().strip() # convert to lowercase\n",
    "    query = re.sub(r'[^\\w\\s]', '', query) # remove special characters\n",
    "    return query\n",
    "\n",
    "sample_query = \"Binary search in Python\"\n",
    "print(preprocess_query(sample_query)) # output: \"binary search in python\""
   ]
  },
  {
   "cell_type": "code",
   "execution_count": 8,
   "metadata": {},
   "outputs": [],
   "source": [
    "# Save processed data\n",
    "\n",
    "df_python.to_json(\"preprocessed_codesearchnet_python.json\", orient=\"records\", indent=2)\n",
    "df_java.to_json(\"preprocessed_codesearchnet_java.json\", orient=\"records\", indent=2)"
   ]
  }
 ],
 "metadata": {
  "kernelspec": {
   "display_name": "3.11.11",
   "language": "python",
   "name": "python3"
  },
  "language_info": {
   "codemirror_mode": {
    "name": "ipython",
    "version": 3
   },
   "file_extension": ".py",
   "mimetype": "text/x-python",
   "name": "python",
   "nbconvert_exporter": "python",
   "pygments_lexer": "ipython3",
   "version": "3.11.11"
  }
 },
 "nbformat": 4,
 "nbformat_minor": 2
}
